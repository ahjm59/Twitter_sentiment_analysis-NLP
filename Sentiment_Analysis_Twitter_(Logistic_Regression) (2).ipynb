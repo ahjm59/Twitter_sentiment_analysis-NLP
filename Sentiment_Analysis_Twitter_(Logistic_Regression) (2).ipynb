{
  "nbformat": 4,
  "nbformat_minor": 0,
  "metadata": {
    "colab": {
      "provenance": [],
      "collapsed_sections": []
    },
    "kernelspec": {
      "name": "python3",
      "display_name": "Python 3"
    },
    "language_info": {
      "name": "python"
    },
    "gpuClass": "standard"
  },
  "cells": [
    {
      "cell_type": "markdown",
      "source": [
        "Sentiment analysis on Twitter data - Logistic Regression \n",
        "---\n",
        "\n"
      ],
      "metadata": {
        "id": "vfSnrtHbgILR"
      }
    },
    {
      "cell_type": "markdown",
      "source": [
        "Sentiment analysis is utilized in classifying and distingusihing text data into different categories. These categories can be formulated as per the business requirements. Generally for sentiment analysis are distinguised between positive, negative and neutral sentiments.\n",
        "\n",
        "Utilizing logistic regression, a model can be trained which would be able to predict/classify the sentiments on a sample of tweet. This model can also be generalized over all the tweets. "
      ],
      "metadata": {
        "id": "_76O_Au2gZYs"
      }
    },
    {
      "cell_type": "markdown",
      "source": [
        "Twitter dataset\n",
        "---\n",
        "\n",
        "In order to create a logistic regression model, we can use the NLTK dataset is encoded in the Python NLTK library. \n"
      ],
      "metadata": {
        "id": "jRZX9vSmP0k-"
      }
    },
    {
      "cell_type": "code",
      "execution_count": 8,
      "metadata": {
        "id": "PGjYPMwvumxE",
        "colab": {
          "base_uri": "https://localhost:8080/"
        },
        "outputId": "ca655929-edc5-47fe-a4d4-80ada4c3288f"
      },
      "outputs": [
        {
          "output_type": "stream",
          "name": "stdout",
          "text": [
            "Looking in indexes: https://pypi.org/simple, https://us-python.pkg.dev/colab-wheels/public/simple/\n",
            "Requirement already satisfied: kaleido==0.1.* in /usr/local/lib/python3.7/dist-packages (0.1.0)\n"
          ]
        }
      ],
      "source": [
        "# Importing functions\n",
        "import nltk                                \n",
        "from nltk.corpus import twitter_samples    \n",
        "import matplotlib.pyplot as plt            \n",
        "import random\n",
        "import numpy as np\n",
        "import pandas as pd\n",
        "import plotly.express as px\n",
        "!pip install --upgrade \"kaleido==0.1.*\"\n",
        "import kaleido"
      ]
    },
    {
      "cell_type": "code",
      "source": [
        "# Sample twitter dataset.\n",
        "nltk.download('twitter_samples')\n",
        "all_positive_tweets = twitter_samples.strings('positive_tweets.json')\n",
        "all_negative_tweets = twitter_samples.strings('negative_tweets.json')"
      ],
      "metadata": {
        "colab": {
          "base_uri": "https://localhost:8080/"
        },
        "id": "pwTJbBBWysOs",
        "outputId": "cedc3ac2-b604-48b2-8718-9cd4ef5fe105"
      },
      "execution_count": 9,
      "outputs": [
        {
          "output_type": "stream",
          "name": "stderr",
          "text": [
            "[nltk_data] Downloading package twitter_samples to /root/nltk_data...\n",
            "[nltk_data]   Package twitter_samples is already up-to-date!\n"
          ]
        }
      ]
    },
    {
      "cell_type": "markdown",
      "source": [
        "The dataset consists of two classes i.e. Positive class encoded as label 1 and Negative class encoded as label 0. There are total of 10000 datapoints i.e. 10000 tweets. The classes for this dataset are balanced where both classes have 5000 datapoints each."
      ],
      "metadata": {
        "id": "NX4y0bb0QhMF"
      }
    },
    {
      "cell_type": "code",
      "source": [
        "print('Number of positive tweets: ', len(all_positive_tweets))\n",
        "print('Number of negative tweets: ', len(all_negative_tweets))\n",
        "\n",
        "print('\\nThe type of all_positive_tweets is: ', type(all_positive_tweets))\n",
        "print('The type of a tweet entry is: ', type(all_negative_tweets[0]))"
      ],
      "metadata": {
        "colab": {
          "base_uri": "https://localhost:8080/"
        },
        "id": "PudnTr4zyz9R",
        "outputId": "ae954a6c-345a-43cb-8536-4c73fc43a02b"
      },
      "execution_count": 10,
      "outputs": [
        {
          "output_type": "stream",
          "name": "stdout",
          "text": [
            "Number of positive tweets:  5000\n",
            "Number of negative tweets:  5000\n",
            "\n",
            "The type of all_positive_tweets is:  <class 'list'>\n",
            "The type of a tweet entry is:  <class 'str'>\n"
          ]
        }
      ]
    },
    {
      "cell_type": "code",
      "source": [
        "import plotly.express as px\n",
        "fig = px.scatter(px.data.iris(), x=\"sepal_length\", y=\"sepal_width\", color=\"species\")\n",
        "fig.write_image(\"figure.png\", engine=\"kaleido\")"
      ],
      "metadata": {
        "id": "G2mOi8hNapaX"
      },
      "execution_count": 11,
      "outputs": []
    },
    {
      "cell_type": "code",
      "source": [
        "import plotly.graph_objects as go\n",
        "colors = [\"red\", \"green\"]\n",
        "\n",
        "fig = go.Figure(data=[go.Pie(labels=['Positives', 'Negative'],\n",
        "                             values=[len(all_positive_tweets), len(all_negative_tweets)])])\n",
        "fig.update_traces(hoverinfo='label+percent', textinfo='value+percent', textfont_size=20,\n",
        "                  marker=dict(colors=colors, line=dict(color='#000000', width=1)))\n",
        "fig.update_layout(height = 400, width = 500, paper_bgcolor=\"#D3D3D3\", title= {\n",
        "        'text': \"Sentiment Class Distribution\",\n",
        "        'y':0.9,\n",
        "        'x':0.46,'xanchor': 'center',\n",
        "        'yanchor': 'top'})\n",
        "fig.write_image(\"distribution.png\", \"png\")\n",
        "\n",
        "fig.show()"
      ],
      "metadata": {
        "colab": {
          "base_uri": "https://localhost:8080/",
          "height": 417
        },
        "id": "TYb2V52S-QTb",
        "outputId": "caa111a7-585f-4079-92a3-e19a32cbe0c2"
      },
      "execution_count": 12,
      "outputs": [
        {
          "output_type": "display_data",
          "data": {
            "text/html": [
              "<html>\n",
              "<head><meta charset=\"utf-8\" /></head>\n",
              "<body>\n",
              "    <div>            <script src=\"https://cdnjs.cloudflare.com/ajax/libs/mathjax/2.7.5/MathJax.js?config=TeX-AMS-MML_SVG\"></script><script type=\"text/javascript\">if (window.MathJax) {MathJax.Hub.Config({SVG: {font: \"STIX-Web\"}});}</script>                <script type=\"text/javascript\">window.PlotlyConfig = {MathJaxConfig: 'local'};</script>\n",
              "        <script src=\"https://cdn.plot.ly/plotly-2.8.3.min.js\"></script>                <div id=\"24a2429d-2ab1-4b66-b29f-3bd698c8cb6b\" class=\"plotly-graph-div\" style=\"height:400px; width:500px;\"></div>            <script type=\"text/javascript\">                                    window.PLOTLYENV=window.PLOTLYENV || {};                                    if (document.getElementById(\"24a2429d-2ab1-4b66-b29f-3bd698c8cb6b\")) {                    Plotly.newPlot(                        \"24a2429d-2ab1-4b66-b29f-3bd698c8cb6b\",                        [{\"labels\":[\"Positives\",\"Negative\"],\"values\":[5000,5000],\"type\":\"pie\",\"textfont\":{\"size\":20},\"marker\":{\"line\":{\"color\":\"#000000\",\"width\":1},\"colors\":[\"red\",\"green\"]},\"hoverinfo\":\"label+percent\",\"textinfo\":\"value+percent\"}],                        {\"template\":{\"data\":{\"bar\":[{\"error_x\":{\"color\":\"#2a3f5f\"},\"error_y\":{\"color\":\"#2a3f5f\"},\"marker\":{\"line\":{\"color\":\"#E5ECF6\",\"width\":0.5},\"pattern\":{\"fillmode\":\"overlay\",\"size\":10,\"solidity\":0.2}},\"type\":\"bar\"}],\"barpolar\":[{\"marker\":{\"line\":{\"color\":\"#E5ECF6\",\"width\":0.5},\"pattern\":{\"fillmode\":\"overlay\",\"size\":10,\"solidity\":0.2}},\"type\":\"barpolar\"}],\"carpet\":[{\"aaxis\":{\"endlinecolor\":\"#2a3f5f\",\"gridcolor\":\"white\",\"linecolor\":\"white\",\"minorgridcolor\":\"white\",\"startlinecolor\":\"#2a3f5f\"},\"baxis\":{\"endlinecolor\":\"#2a3f5f\",\"gridcolor\":\"white\",\"linecolor\":\"white\",\"minorgridcolor\":\"white\",\"startlinecolor\":\"#2a3f5f\"},\"type\":\"carpet\"}],\"choropleth\":[{\"colorbar\":{\"outlinewidth\":0,\"ticks\":\"\"},\"type\":\"choropleth\"}],\"contour\":[{\"colorbar\":{\"outlinewidth\":0,\"ticks\":\"\"},\"colorscale\":[[0.0,\"#0d0887\"],[0.1111111111111111,\"#46039f\"],[0.2222222222222222,\"#7201a8\"],[0.3333333333333333,\"#9c179e\"],[0.4444444444444444,\"#bd3786\"],[0.5555555555555556,\"#d8576b\"],[0.6666666666666666,\"#ed7953\"],[0.7777777777777778,\"#fb9f3a\"],[0.8888888888888888,\"#fdca26\"],[1.0,\"#f0f921\"]],\"type\":\"contour\"}],\"contourcarpet\":[{\"colorbar\":{\"outlinewidth\":0,\"ticks\":\"\"},\"type\":\"contourcarpet\"}],\"heatmap\":[{\"colorbar\":{\"outlinewidth\":0,\"ticks\":\"\"},\"colorscale\":[[0.0,\"#0d0887\"],[0.1111111111111111,\"#46039f\"],[0.2222222222222222,\"#7201a8\"],[0.3333333333333333,\"#9c179e\"],[0.4444444444444444,\"#bd3786\"],[0.5555555555555556,\"#d8576b\"],[0.6666666666666666,\"#ed7953\"],[0.7777777777777778,\"#fb9f3a\"],[0.8888888888888888,\"#fdca26\"],[1.0,\"#f0f921\"]],\"type\":\"heatmap\"}],\"heatmapgl\":[{\"colorbar\":{\"outlinewidth\":0,\"ticks\":\"\"},\"colorscale\":[[0.0,\"#0d0887\"],[0.1111111111111111,\"#46039f\"],[0.2222222222222222,\"#7201a8\"],[0.3333333333333333,\"#9c179e\"],[0.4444444444444444,\"#bd3786\"],[0.5555555555555556,\"#d8576b\"],[0.6666666666666666,\"#ed7953\"],[0.7777777777777778,\"#fb9f3a\"],[0.8888888888888888,\"#fdca26\"],[1.0,\"#f0f921\"]],\"type\":\"heatmapgl\"}],\"histogram\":[{\"marker\":{\"pattern\":{\"fillmode\":\"overlay\",\"size\":10,\"solidity\":0.2}},\"type\":\"histogram\"}],\"histogram2d\":[{\"colorbar\":{\"outlinewidth\":0,\"ticks\":\"\"},\"colorscale\":[[0.0,\"#0d0887\"],[0.1111111111111111,\"#46039f\"],[0.2222222222222222,\"#7201a8\"],[0.3333333333333333,\"#9c179e\"],[0.4444444444444444,\"#bd3786\"],[0.5555555555555556,\"#d8576b\"],[0.6666666666666666,\"#ed7953\"],[0.7777777777777778,\"#fb9f3a\"],[0.8888888888888888,\"#fdca26\"],[1.0,\"#f0f921\"]],\"type\":\"histogram2d\"}],\"histogram2dcontour\":[{\"colorbar\":{\"outlinewidth\":0,\"ticks\":\"\"},\"colorscale\":[[0.0,\"#0d0887\"],[0.1111111111111111,\"#46039f\"],[0.2222222222222222,\"#7201a8\"],[0.3333333333333333,\"#9c179e\"],[0.4444444444444444,\"#bd3786\"],[0.5555555555555556,\"#d8576b\"],[0.6666666666666666,\"#ed7953\"],[0.7777777777777778,\"#fb9f3a\"],[0.8888888888888888,\"#fdca26\"],[1.0,\"#f0f921\"]],\"type\":\"histogram2dcontour\"}],\"mesh3d\":[{\"colorbar\":{\"outlinewidth\":0,\"ticks\":\"\"},\"type\":\"mesh3d\"}],\"parcoords\":[{\"line\":{\"colorbar\":{\"outlinewidth\":0,\"ticks\":\"\"}},\"type\":\"parcoords\"}],\"pie\":[{\"automargin\":true,\"type\":\"pie\"}],\"scatter\":[{\"marker\":{\"colorbar\":{\"outlinewidth\":0,\"ticks\":\"\"}},\"type\":\"scatter\"}],\"scatter3d\":[{\"line\":{\"colorbar\":{\"outlinewidth\":0,\"ticks\":\"\"}},\"marker\":{\"colorbar\":{\"outlinewidth\":0,\"ticks\":\"\"}},\"type\":\"scatter3d\"}],\"scattercarpet\":[{\"marker\":{\"colorbar\":{\"outlinewidth\":0,\"ticks\":\"\"}},\"type\":\"scattercarpet\"}],\"scattergeo\":[{\"marker\":{\"colorbar\":{\"outlinewidth\":0,\"ticks\":\"\"}},\"type\":\"scattergeo\"}],\"scattergl\":[{\"marker\":{\"colorbar\":{\"outlinewidth\":0,\"ticks\":\"\"}},\"type\":\"scattergl\"}],\"scattermapbox\":[{\"marker\":{\"colorbar\":{\"outlinewidth\":0,\"ticks\":\"\"}},\"type\":\"scattermapbox\"}],\"scatterpolar\":[{\"marker\":{\"colorbar\":{\"outlinewidth\":0,\"ticks\":\"\"}},\"type\":\"scatterpolar\"}],\"scatterpolargl\":[{\"marker\":{\"colorbar\":{\"outlinewidth\":0,\"ticks\":\"\"}},\"type\":\"scatterpolargl\"}],\"scatterternary\":[{\"marker\":{\"colorbar\":{\"outlinewidth\":0,\"ticks\":\"\"}},\"type\":\"scatterternary\"}],\"surface\":[{\"colorbar\":{\"outlinewidth\":0,\"ticks\":\"\"},\"colorscale\":[[0.0,\"#0d0887\"],[0.1111111111111111,\"#46039f\"],[0.2222222222222222,\"#7201a8\"],[0.3333333333333333,\"#9c179e\"],[0.4444444444444444,\"#bd3786\"],[0.5555555555555556,\"#d8576b\"],[0.6666666666666666,\"#ed7953\"],[0.7777777777777778,\"#fb9f3a\"],[0.8888888888888888,\"#fdca26\"],[1.0,\"#f0f921\"]],\"type\":\"surface\"}],\"table\":[{\"cells\":{\"fill\":{\"color\":\"#EBF0F8\"},\"line\":{\"color\":\"white\"}},\"header\":{\"fill\":{\"color\":\"#C8D4E3\"},\"line\":{\"color\":\"white\"}},\"type\":\"table\"}]},\"layout\":{\"annotationdefaults\":{\"arrowcolor\":\"#2a3f5f\",\"arrowhead\":0,\"arrowwidth\":1},\"autotypenumbers\":\"strict\",\"coloraxis\":{\"colorbar\":{\"outlinewidth\":0,\"ticks\":\"\"}},\"colorscale\":{\"diverging\":[[0,\"#8e0152\"],[0.1,\"#c51b7d\"],[0.2,\"#de77ae\"],[0.3,\"#f1b6da\"],[0.4,\"#fde0ef\"],[0.5,\"#f7f7f7\"],[0.6,\"#e6f5d0\"],[0.7,\"#b8e186\"],[0.8,\"#7fbc41\"],[0.9,\"#4d9221\"],[1,\"#276419\"]],\"sequential\":[[0.0,\"#0d0887\"],[0.1111111111111111,\"#46039f\"],[0.2222222222222222,\"#7201a8\"],[0.3333333333333333,\"#9c179e\"],[0.4444444444444444,\"#bd3786\"],[0.5555555555555556,\"#d8576b\"],[0.6666666666666666,\"#ed7953\"],[0.7777777777777778,\"#fb9f3a\"],[0.8888888888888888,\"#fdca26\"],[1.0,\"#f0f921\"]],\"sequentialminus\":[[0.0,\"#0d0887\"],[0.1111111111111111,\"#46039f\"],[0.2222222222222222,\"#7201a8\"],[0.3333333333333333,\"#9c179e\"],[0.4444444444444444,\"#bd3786\"],[0.5555555555555556,\"#d8576b\"],[0.6666666666666666,\"#ed7953\"],[0.7777777777777778,\"#fb9f3a\"],[0.8888888888888888,\"#fdca26\"],[1.0,\"#f0f921\"]]},\"colorway\":[\"#636efa\",\"#EF553B\",\"#00cc96\",\"#ab63fa\",\"#FFA15A\",\"#19d3f3\",\"#FF6692\",\"#B6E880\",\"#FF97FF\",\"#FECB52\"],\"font\":{\"color\":\"#2a3f5f\"},\"geo\":{\"bgcolor\":\"white\",\"lakecolor\":\"white\",\"landcolor\":\"#E5ECF6\",\"showlakes\":true,\"showland\":true,\"subunitcolor\":\"white\"},\"hoverlabel\":{\"align\":\"left\"},\"hovermode\":\"closest\",\"mapbox\":{\"style\":\"light\"},\"paper_bgcolor\":\"white\",\"plot_bgcolor\":\"#E5ECF6\",\"polar\":{\"angularaxis\":{\"gridcolor\":\"white\",\"linecolor\":\"white\",\"ticks\":\"\"},\"bgcolor\":\"#E5ECF6\",\"radialaxis\":{\"gridcolor\":\"white\",\"linecolor\":\"white\",\"ticks\":\"\"}},\"scene\":{\"xaxis\":{\"backgroundcolor\":\"#E5ECF6\",\"gridcolor\":\"white\",\"gridwidth\":2,\"linecolor\":\"white\",\"showbackground\":true,\"ticks\":\"\",\"zerolinecolor\":\"white\"},\"yaxis\":{\"backgroundcolor\":\"#E5ECF6\",\"gridcolor\":\"white\",\"gridwidth\":2,\"linecolor\":\"white\",\"showbackground\":true,\"ticks\":\"\",\"zerolinecolor\":\"white\"},\"zaxis\":{\"backgroundcolor\":\"#E5ECF6\",\"gridcolor\":\"white\",\"gridwidth\":2,\"linecolor\":\"white\",\"showbackground\":true,\"ticks\":\"\",\"zerolinecolor\":\"white\"}},\"shapedefaults\":{\"line\":{\"color\":\"#2a3f5f\"}},\"ternary\":{\"aaxis\":{\"gridcolor\":\"white\",\"linecolor\":\"white\",\"ticks\":\"\"},\"baxis\":{\"gridcolor\":\"white\",\"linecolor\":\"white\",\"ticks\":\"\"},\"bgcolor\":\"#E5ECF6\",\"caxis\":{\"gridcolor\":\"white\",\"linecolor\":\"white\",\"ticks\":\"\"}},\"title\":{\"x\":0.05},\"xaxis\":{\"automargin\":true,\"gridcolor\":\"white\",\"linecolor\":\"white\",\"ticks\":\"\",\"title\":{\"standoff\":15},\"zerolinecolor\":\"white\",\"zerolinewidth\":2},\"yaxis\":{\"automargin\":true,\"gridcolor\":\"white\",\"linecolor\":\"white\",\"ticks\":\"\",\"title\":{\"standoff\":15},\"zerolinecolor\":\"white\",\"zerolinewidth\":2}}},\"title\":{\"text\":\"Sentiment Class Distribution\",\"y\":0.9,\"x\":0.46,\"xanchor\":\"center\",\"yanchor\":\"top\"},\"height\":400,\"width\":500,\"paper_bgcolor\":\"#D3D3D3\"},                        {\"responsive\": true}                    ).then(function(){\n",
              "                            \n",
              "var gd = document.getElementById('24a2429d-2ab1-4b66-b29f-3bd698c8cb6b');\n",
              "var x = new MutationObserver(function (mutations, observer) {{\n",
              "        var display = window.getComputedStyle(gd).display;\n",
              "        if (!display || display === 'none') {{\n",
              "            console.log([gd, 'removed!']);\n",
              "            Plotly.purge(gd);\n",
              "            observer.disconnect();\n",
              "        }}\n",
              "}});\n",
              "\n",
              "// Listen for the removal of the full notebook cells\n",
              "var notebookContainer = gd.closest('#notebook-container');\n",
              "if (notebookContainer) {{\n",
              "    x.observe(notebookContainer, {childList: true});\n",
              "}}\n",
              "\n",
              "// Listen for the clearing of the current output cell\n",
              "var outputEl = gd.closest('.output');\n",
              "if (outputEl) {{\n",
              "    x.observe(outputEl, {childList: true});\n",
              "}}\n",
              "\n",
              "                        })                };                            </script>        </div>\n",
              "</body>\n",
              "</html>"
            ]
          },
          "metadata": {}
        }
      ]
    },
    {
      "cell_type": "markdown",
      "source": [
        "To visualize how the data itself looks like four samples from both classes have been extracted. The tweets consists of strings, numbers, URLs, hashtags, punctuations and emojis. To make the logistic regression model more accurate we would need to preprocess the data and remove certain features that do not help in making predictions or do not add any meaning to sentiment analysis. "
      ],
      "metadata": {
        "id": "jGXUIM6UQ8Lb"
      }
    },
    {
      "cell_type": "code",
      "source": [
        "import sys\n",
        "from termcolor import colored, cprint\n",
        "text = colored(all_positive_tweets[random.randint(0,5000)], 'green', attrs=['reverse', 'blink'])\n",
        "text_2 = colored(all_positive_tweets[random.randint(0,5000)], 'green', attrs=['reverse', 'blink'])\n",
        "text_3 = colored(all_negative_tweets[random.randint(0,5000)], 'red', attrs=['reverse', 'blink'])\n",
        "text_4 = colored(all_negative_tweets[random.randint(0,5000)], 'red', attrs=['reverse', 'blink'])\n",
        "print(f\"First positive Tweet sample:\\n{text}\\n Second positive Tweet sample:\\n{text_2}\")\n",
        "print(f\"First negative Tweet sample:\\n{text_3}\\n Second negative Tweet sample:\\n{text_4}\")"
      ],
      "metadata": {
        "colab": {
          "base_uri": "https://localhost:8080/"
        },
        "id": "ZEMBgh10y8M9",
        "outputId": "9880f171-cabc-4e30-c228-c647f85ad6c7"
      },
      "execution_count": 43,
      "outputs": [
        {
          "output_type": "stream",
          "name": "stdout",
          "text": [
            "First positive Tweet sample:\n",
            "\u001b[5m\u001b[7m\u001b[32m@vickybeeching congratulations, really looking forward to the book and some good Sunday morning viewing. That's an awesome teapot BTW :-) x\u001b[0m\n",
            " Second positive Tweet sample:\n",
            "\u001b[5m\u001b[7m\u001b[32mHi BAM ! @BarsAndMelody \n",
            "Can you follow my bestfriend @969Horan696 ? \n",
            "She loves you a lot :) \n",
            "See you in Warsaw &lt;3 \n",
            "Love you &lt;3 x43\u001b[0m\n",
            "First negative Tweet sample:\n",
            "\u001b[5m\u001b[7m\u001b[31m#PKwalaSawaal  when will India  become a developed nation :( ? @SonyMAX\u001b[0m\n",
            " Second negative Tweet sample:\n",
            "\u001b[5m\u001b[7m\u001b[31mI miss my boyfriend :-(\u001b[0m\n"
          ]
        }
      ]
    },
    {
      "cell_type": "markdown",
      "source": [
        "Data preprocessing\n",
        "---\n",
        "Data preprocessing in NLP involves removing certain features that do not add any value for to the model. In case of sentiment analysis they would include\n",
        "1. Removing punctuations\n",
        "2. Removing stop words \n",
        "3. Tokenization \n",
        "4. Words stemming\n",
        "5. Removing hashtags (#) and URLs in case of twitter data.\n",
        "6. Word lowercasing \n"
      ],
      "metadata": {
        "id": "5EDdkNypXAn7"
      }
    },
    {
      "cell_type": "markdown",
      "source": [
        "The following sample tweets will be processed to exactly see how they would be represented as vector in the end for the logistic regression. In the first step hashtags and URLs can be removed such that the next preprocessing steps become much easier. "
      ],
      "metadata": {
        "id": "1mhi9WQ1XqEo"
      }
    },
    {
      "cell_type": "code",
      "source": [
        "tweet = all_positive_tweets[2277]\n",
        "tweet_2 = all_positive_tweets[2267]\n",
        "print(f\"Tweet 1:\\n{tweet}\\n\\nTweet_2:\\n{tweet_2}\")"
      ],
      "metadata": {
        "colab": {
          "base_uri": "https://localhost:8080/"
        },
        "id": "8ir0fb6A0iCU",
        "outputId": "94c2622c-57b5-4a6b-a8d6-72e937f812bf"
      },
      "execution_count": 14,
      "outputs": [
        {
          "output_type": "stream",
          "name": "stdout",
          "text": [
            "Tweet 1:\n",
            "My beautiful sunflowers on a sunny Friday morning off :) #sunflowers #favourites #happy #Friday off… https://t.co/3tfYom0N1i\n",
            "\n",
            "Tweet_2:\n",
            "We like to keep students busy with practicing and using English in proactive environment. :)\n"
          ]
        }
      ]
    },
    {
      "cell_type": "code",
      "source": [
        "# Package imports for preprocessing\n",
        "nltk.download('stopwords')\n",
        "\n",
        "import re                                  # library for Regex operations\n",
        "import string                              # library string operations\n",
        "from nltk.corpus import stopwords          # Module that consists of stop words \n",
        "from nltk.tokenize import TweetTokenizer   # Module for tokenization and stemming"
      ],
      "metadata": {
        "colab": {
          "base_uri": "https://localhost:8080/"
        },
        "id": "-KmB7UgzCow-",
        "outputId": "f9ea6cdc-daaa-4e45-f99a-80973fa01cb6"
      },
      "execution_count": 15,
      "outputs": [
        {
          "output_type": "stream",
          "name": "stderr",
          "text": [
            "[nltk_data] Downloading package stopwords to /root/nltk_data...\n",
            "[nltk_data]   Package stopwords is already up-to-date!\n"
          ]
        }
      ]
    },
    {
      "cell_type": "code",
      "source": [
        "# Normalization of tweet text to modern format\n",
        "conv_tweet = re.sub(r'^RT[\\s]+', '', tweet)\n",
        "conv_tweet_2 = re.sub(r'^RT[\\s]+', '', tweet_2)\n",
        "\n",
        "# Removes hyperlinks\n",
        "conv_tweet = re.sub(r'https?://[^\\s\\n\\r]+', '', conv_tweet)\n",
        "conv_tweet_2 = re.sub(r'https?://[^\\s\\n\\r]+', '', conv_tweet_2)\n",
        "\n",
        "# Removes hashtags (Note - only removing the # sign from the tweet and not the word attached to the hash)\n",
        "conv_tweet = re.sub(r'#', '', conv_tweet)\n",
        "conv_tweet_2 = re.sub(r'#', '', conv_tweet_2)\n",
        "\n",
        "print('\\033[1m' + \"Original Tweets\")\n",
        "print('\\033[0m' + tweet)\n",
        "print('\\033[0m' + tweet_2 + \"\\n\")\n",
        "print('\\033[96m' + \"Converted Tweets\")\n",
        "print('\\033[96m' + conv_tweet)\n",
        "print('\\033[96m' + conv_tweet_2)"
      ],
      "metadata": {
        "colab": {
          "base_uri": "https://localhost:8080/"
        },
        "id": "0vsqNI3ZI4I6",
        "outputId": "de4d5053-d891-45cb-93bf-94a89941f228"
      },
      "execution_count": 16,
      "outputs": [
        {
          "output_type": "stream",
          "name": "stdout",
          "text": [
            "\u001b[1mOriginal Tweets\n",
            "\u001b[0mMy beautiful sunflowers on a sunny Friday morning off :) #sunflowers #favourites #happy #Friday off… https://t.co/3tfYom0N1i\n",
            "\u001b[0mWe like to keep students busy with practicing and using English in proactive environment. :)\n",
            "\n",
            "\u001b[96mConverted Tweets\n",
            "\u001b[96mMy beautiful sunflowers on a sunny Friday morning off :) sunflowers favourites happy Friday off… \n",
            "\u001b[96mWe like to keep students busy with practicing and using English in proactive environment. :)\n"
          ]
        }
      ]
    },
    {
      "cell_type": "markdown",
      "source": [
        "Next step is to tokenize the tweets. Meaning each word in the tweet will be seperated and be inserted into a list. This will help in removal of punctuations, removal of stop words and stemming. \n",
        "\n",
        "Lower casing all the words also helps reduce the size of the vocabulary i.e. the number of unique words in the entire training data. Words like \"Great\", \"great\" and \"GREATE\" will all be reduced to the word \"great\". In python these words/strings are treated seperately. Hence lower casing will help resolve these issues."
      ],
      "metadata": {
        "id": "bXxZzQHCe1xK"
      }
    },
    {
      "cell_type": "code",
      "source": [
        "print('\\033[96m')\n",
        "print(\"Converted Tweets:\")\n",
        "print('\\033[96m' + conv_tweet)\n",
        "print('\\033[96m' + conv_tweet_2)\n",
        "\n",
        "# Instantiation of tokenizer class\n",
        "tokenizer = TweetTokenizer(preserve_case=False, strip_handles=True,\n",
        "                               reduce_len=True)\n",
        "\n",
        "# Tokenizing tweets\n",
        "tweet_tokens = tokenizer.tokenize(conv_tweet)\n",
        "tweet_tokens_2 = tokenizer.tokenize(conv_tweet_2)\n",
        "print('\\033[92m')\n",
        "print('Tokenized strings:')\n",
        "print(tweet_tokens)\n",
        "print(tweet_tokens_2)"
      ],
      "metadata": {
        "colab": {
          "base_uri": "https://localhost:8080/"
        },
        "id": "DAOZgLyJIygp",
        "outputId": "340a8b85-9030-441c-bcbb-09e7879b68a2"
      },
      "execution_count": 17,
      "outputs": [
        {
          "output_type": "stream",
          "name": "stdout",
          "text": [
            "\u001b[96m\n",
            "Converted Tweets:\n",
            "\u001b[96mMy beautiful sunflowers on a sunny Friday morning off :) sunflowers favourites happy Friday off… \n",
            "\u001b[96mWe like to keep students busy with practicing and using English in proactive environment. :)\n",
            "\u001b[92m\n",
            "Tokenized strings:\n",
            "['my', 'beautiful', 'sunflowers', 'on', 'a', 'sunny', 'friday', 'morning', 'off', ':)', 'sunflowers', 'favourites', 'happy', 'friday', 'off', '…']\n",
            "['we', 'like', 'to', 'keep', 'students', 'busy', 'with', 'practicing', 'and', 'using', 'english', 'in', 'proactive', 'environment', '.', ':)']\n"
          ]
        }
      ]
    },
    {
      "cell_type": "markdown",
      "source": [
        "Stop words are words in any language that fail to give any contextual meaning to the sentences. In case of sentiment analysis of twitter data they fail to provide any value to indication of the sentiment. Removing them will reduce the size of the vocabulary which would be later used to create a feature dictionary; Ultimately, reducing training and prediction time. For this analysis, stop words from the NLTK library are sufficient. It is important to note that it is not always beneficial to remove all stop words. Words like \"not\" and \"shouldn't\" sometimes contribute towards ascertaining the sentiment of a tweet. For this base analysis, all stop words will be removed. The list of stops words can be amended after visualizing the count feature vectors of all the tweets in a 2D plane and after cross-validation. In the NLTK library there are 179 total stops words.\n",
        "\n",
        "Similarly, punctuations can be removed from the tweets. Like stop words they also do not provide significant contribution towards sentiment analysis. Some punctuations like \"!\" and conjoined punctuations like \":)\" which are used in replacement of emojis should be retained for sentiment analysis of twitter data. To know which punctuations should be removed can be ascertained after visualizing the un-processed data and finding out if they are giving any context to the data. Furthermore, they can also be visualized in a 2D plane of the feature count where a high usage in the data would indicate towards retaning them. Cross-validation would also help in providing more clarity. \n",
        "\n",
        "In the NLTK library there are 179 total stops words and the punctuations which will be extracted from the string package. "
      ],
      "metadata": {
        "id": "aV2nHIWhfj9n"
      }
    },
    {
      "cell_type": "code",
      "source": [
        "# Import of english stop words from NLTK\n",
        "stopwords_english = stopwords.words('english') \n",
        "\n",
        "print(\"Total Stop Words:\",len(stopwords_english),\"\\n\\n\",stopwords_english[0:21],\"\\n\",stopwords_english[21 : 44],\"\\n\",stopwords_english[44 : 66],\"\\n\",stopwords_english[66 : 88],\"\\n\",stopwords_english[88 : 110],\n",
        "      \"\\n\",stopwords_english[110 : 132],\"\\n\",stopwords_english[132 : 154],\"\\n\",stopwords_english[154 : 170],\"\\n\",stopwords_english[170 : 178])\n",
        "\n",
        "# Punctiations from the string library\n",
        "print('\\nPunctuations\\n')\n",
        "print(string.punctuation)"
      ],
      "metadata": {
        "colab": {
          "base_uri": "https://localhost:8080/"
        },
        "id": "vafI3PnCR6yS",
        "outputId": "5d6c6d4b-cd4a-453f-deaf-f5f5f7eb1b8a"
      },
      "execution_count": 18,
      "outputs": [
        {
          "output_type": "stream",
          "name": "stdout",
          "text": [
            "Total Stop Words: 179 \n",
            "\n",
            " ['i', 'me', 'my', 'myself', 'we', 'our', 'ours', 'ourselves', 'you', \"you're\", \"you've\", \"you'll\", \"you'd\", 'your', 'yours', 'yourself', 'yourselves', 'he', 'him', 'his', 'himself'] \n",
            " ['she', \"she's\", 'her', 'hers', 'herself', 'it', \"it's\", 'its', 'itself', 'they', 'them', 'their', 'theirs', 'themselves', 'what', 'which', 'who', 'whom', 'this', 'that', \"that'll\", 'these', 'those'] \n",
            " ['am', 'is', 'are', 'was', 'were', 'be', 'been', 'being', 'have', 'has', 'had', 'having', 'do', 'does', 'did', 'doing', 'a', 'an', 'the', 'and', 'but', 'if'] \n",
            " ['or', 'because', 'as', 'until', 'while', 'of', 'at', 'by', 'for', 'with', 'about', 'against', 'between', 'into', 'through', 'during', 'before', 'after', 'above', 'below', 'to', 'from'] \n",
            " ['up', 'down', 'in', 'out', 'on', 'off', 'over', 'under', 'again', 'further', 'then', 'once', 'here', 'there', 'when', 'where', 'why', 'how', 'all', 'any', 'both', 'each'] \n",
            " ['few', 'more', 'most', 'other', 'some', 'such', 'no', 'nor', 'not', 'only', 'own', 'same', 'so', 'than', 'too', 'very', 's', 't', 'can', 'will', 'just', 'don'] \n",
            " [\"don't\", 'should', \"should've\", 'now', 'd', 'll', 'm', 'o', 're', 've', 'y', 'ain', 'aren', \"aren't\", 'couldn', \"couldn't\", 'didn', \"didn't\", 'doesn', \"doesn't\", 'hadn', \"hadn't\"] \n",
            " ['hasn', \"hasn't\", 'haven', \"haven't\", 'isn', \"isn't\", 'ma', 'mightn', \"mightn't\", 'mustn', \"mustn't\", 'needn', \"needn't\", 'shan', \"shan't\", 'shouldn'] \n",
            " [\"shouldn't\", 'wasn', \"wasn't\", 'weren', \"weren't\", 'won', \"won't\", 'wouldn']\n",
            "\n",
            "Punctuations\n",
            "\n",
            "!\"#$%&'()*+,-./:;<=>?@[\\]^_`{|}~\n"
          ]
        }
      ]
    },
    {
      "cell_type": "markdown",
      "source": [
        "Processed sample data after removal of punctuations and stop words"
      ],
      "metadata": {
        "id": "smIB12Egkbnw"
      }
    },
    {
      "cell_type": "code",
      "source": [
        "print('\\033[92m' + \"Tokenized Strings:\")\n",
        "print(tweet_tokens)\n",
        "print(tweet_tokens_2)\n",
        "\n",
        "tweets_clean = [[], []]\n",
        "\n",
        "for i, tweet_list in enumerate([tweet_tokens, tweet_tokens_2]): \n",
        "  for word in tweet_list:\n",
        "    if (word not in stopwords_english and  \n",
        "        word not in string.punctuation):  \n",
        "        tweets_clean[i].append(word)\n",
        "\n",
        "print('\\033[33m')\n",
        "print('Removed stop words and punctuation:')\n",
        "print(f\"Tweet 1\\n{tweets_clean[0]}\\nTweet 2\\n{tweets_clean[1]}\")"
      ],
      "metadata": {
        "colab": {
          "base_uri": "https://localhost:8080/"
        },
        "id": "RgfXpH56NXr2",
        "outputId": "46ff3622-2033-4831-b73e-b8f6b345a6d4"
      },
      "execution_count": 19,
      "outputs": [
        {
          "output_type": "stream",
          "name": "stdout",
          "text": [
            "\u001b[92mTokenized Strings:\n",
            "['my', 'beautiful', 'sunflowers', 'on', 'a', 'sunny', 'friday', 'morning', 'off', ':)', 'sunflowers', 'favourites', 'happy', 'friday', 'off', '…']\n",
            "['we', 'like', 'to', 'keep', 'students', 'busy', 'with', 'practicing', 'and', 'using', 'english', 'in', 'proactive', 'environment', '.', ':)']\n",
            "\u001b[33m\n",
            "Removed stop words and punctuation:\n",
            "Tweet 1\n",
            "['beautiful', 'sunflowers', 'sunny', 'friday', 'morning', ':)', 'sunflowers', 'favourites', 'happy', 'friday', '…']\n",
            "Tweet 2\n",
            "['like', 'keep', 'students', 'busy', 'practicing', 'using', 'english', 'proactive', 'environment', ':)']\n"
          ]
        }
      ]
    },
    {
      "cell_type": "markdown",
      "source": [
        "Stemming involves processing each word and converting it to its base stem. Words like \"eats\", \"eaten\" and \"eating\" are converted to base stem \"eat\". This helps in reducing the size of the vocabulary. A smaller dictionary helps in faster training and predictions."
      ],
      "metadata": {
        "id": "lKpTbpBLkjht"
      }
    },
    {
      "cell_type": "code",
      "source": [
        "print('\\033[33m')\n",
        "print(\"Pre Stemming:\")\n",
        "print(tweets_clean[0])\n",
        "print(tweets_clean[1])\n",
        "\n",
        "\n",
        "# Instantiate stemming class\n",
        "from nltk.stem import PorterStemmer\n",
        "stemmer = PorterStemmer() \n",
        "\n",
        "# Create an empty list to store the stems\n",
        "tweets_stem = [[],[]] \n",
        "\n",
        "for i, element in enumerate(tweets_clean):\n",
        "  for word in element:\n",
        "    stem_word = stemmer.stem(word)  \n",
        "    tweets_stem[i].append(stem_word)  \n",
        "\n",
        "print('\\033[97m')\n",
        "print('Post Stemming:')\n",
        "print(f\"Tweet 1\\n{tweets_stem[0]}\\nTweet 2\\n{tweets_stem[1]}\")"
      ],
      "metadata": {
        "colab": {
          "base_uri": "https://localhost:8080/"
        },
        "id": "RDmVrLx2XT8X",
        "outputId": "a1bd6b77-2455-4ec7-b5f1-fba905bee572"
      },
      "execution_count": 20,
      "outputs": [
        {
          "output_type": "stream",
          "name": "stdout",
          "text": [
            "\u001b[33m\n",
            "Pre Stemming:\n",
            "['beautiful', 'sunflowers', 'sunny', 'friday', 'morning', ':)', 'sunflowers', 'favourites', 'happy', 'friday', '…']\n",
            "['like', 'keep', 'students', 'busy', 'practicing', 'using', 'english', 'proactive', 'environment', ':)']\n",
            "\u001b[97m\n",
            "Post Stemming:\n",
            "Tweet 1\n",
            "['beauti', 'sunflow', 'sunni', 'friday', 'morn', ':)', 'sunflow', 'favourit', 'happi', 'friday', '…']\n",
            "Tweet 2\n",
            "['like', 'keep', 'student', 'busi', 'practic', 'use', 'english', 'proactiv', 'environ', ':)']\n"
          ]
        }
      ]
    },
    {
      "cell_type": "markdown",
      "source": [
        "A [custom function](https://gist.github.com/pinarkaymaz6/8d843e20defc73be1146da2a5d04696f) has been imported from git hub to pre-process all the tweets in the twitter dataset where all the preprocessing steps will be performed in one go. "
      ],
      "metadata": {
        "id": "UWhBJFG_kAzv"
      }
    },
    {
      "cell_type": "code",
      "source": [
        "def process_tweet(tweet):\n",
        "    \"\"\"Process tweet function.\n",
        "    Input:\n",
        "        tweet: a string containing a tweet\n",
        "    Output:\n",
        "        tweets_clean: a list of words containing the processed tweet\n",
        "    \"\"\"\n",
        "    stemmer = PorterStemmer()\n",
        "    stopwords_english = stopwords.words('english')\n",
        "    # remove stock market tickers like $GE\n",
        "    tweet = re.sub(r'\\$\\w*', '', tweet)\n",
        "    # remove old style retweet text \"RT\"\n",
        "    tweet = re.sub(r'^RT[\\s]+', '', tweet)\n",
        "    # remove hyperlinks\n",
        "    tweet = re.sub(r'https?:\\/\\/.*[\\r\\n]*', '', tweet)\n",
        "    # remove hashtags\n",
        "    # only removing the hash # sign from the word\n",
        "    tweet = re.sub(r'#', '', tweet)\n",
        "    # tokenize tweets\n",
        "    tokenizer = TweetTokenizer(preserve_case=False, strip_handles=True,\n",
        "                               reduce_len=True)\n",
        "    tweet_tokens = tokenizer.tokenize(tweet)\n",
        "\n",
        "    tweets_clean = []\n",
        "    for word in tweet_tokens:\n",
        "        if (word not in stopwords_english and  # remove stopwords\n",
        "                word not in string.punctuation):  # remove punctuation\n",
        "            # tweets_clean.append(word)\n",
        "            stem_word = stemmer.stem(word)  # stemming word\n",
        "            tweets_clean.append(stem_word)\n",
        "\n",
        "    return tweets_clean"
      ],
      "metadata": {
        "id": "BfRdl_AqbNsn"
      },
      "execution_count": 21,
      "outputs": []
    },
    {
      "cell_type": "markdown",
      "source": [
        "The \"build_freqs\" function will be used in lieu of the \"process_tweets\" function. The reason for using this is to build a frequency count i.e. the number of times the unique word in our vocabulary has been used in the entire twitter data. This would help us to encode each tweet into a feature vector of size 3. Note: the vocabulary from only the training data would be used in the end rather than the entire data."
      ],
      "metadata": {
        "id": "Prrbes83o8Wq"
      }
    },
    {
      "cell_type": "code",
      "source": [
        "import numpy as np\n",
        "\n",
        "def build_freqs(tweets, ys):\n",
        "    \"\"\"Build frequencies.\n",
        "    Input:\n",
        "        tweets: a list of tweets\n",
        "        ys: an m x 1 array with the sentiment label of each tweet (either 0 or 1)\n",
        "    Output:\n",
        "        freqs: a dictionary mapping each (word, sentiment) pair to its frequency\n",
        "    \"\"\"\n",
        "    # Convert np array to list since zip needs an iterable.\n",
        "    # The squeeze is necessary or the list ends up with one element.\n",
        "    # Also note that this is just a NOP if ys is already a list.\n",
        "    yslist = np.squeeze(ys).tolist()\n",
        "\n",
        "    # Start with an empty dictionary and populate it by looping over all tweets\n",
        "    # and over all processed words in each tweet.\n",
        "    freqs = {}\n",
        "    for y, tweet in zip(yslist, tweets):\n",
        "        for word in process_tweet(tweet):\n",
        "            pair = (word, y)\n",
        "            if pair in freqs:\n",
        "                freqs[pair] += 1\n",
        "            else:\n",
        "                freqs[pair] = 1\n",
        "\n",
        "    return freqs"
      ],
      "metadata": {
        "id": "PBpTO2abebE3"
      },
      "execution_count": 22,
      "outputs": []
    },
    {
      "cell_type": "code",
      "source": [
        "# Concatenation of lists i.e. the positive and negative tweets lists\n",
        "tweets = all_positive_tweets + all_negative_tweets\n",
        "\n",
        "print(\"Number of tweets: \", len(tweets))"
      ],
      "metadata": {
        "colab": {
          "base_uri": "https://localhost:8080/"
        },
        "id": "TA8W4lSBegXD",
        "outputId": "6f72839a-bdae-443c-f2d1-195584f29599"
      },
      "execution_count": 23,
      "outputs": [
        {
          "output_type": "stream",
          "name": "stdout",
          "text": [
            "Number of tweets:  10000\n"
          ]
        }
      ]
    },
    {
      "cell_type": "markdown",
      "source": [
        "The corresponding label of each tweet i.e. 1 or 0 will be appended to each tweet"
      ],
      "metadata": {
        "id": "64tnnbvhpzLl"
      }
    },
    {
      "cell_type": "code",
      "source": [
        "# Numpy array representing labels of the tweets\n",
        "labels = np.append(np.ones((len(all_positive_tweets))), np.zeros((len(all_negative_tweets))))"
      ],
      "metadata": {
        "id": "Z1aTSro-elT2"
      },
      "execution_count": 24,
      "outputs": []
    },
    {
      "cell_type": "markdown",
      "source": [
        "The number of unique words in the vocabulary amount to 13067 for all 10000 tweets i.e. entire training data."
      ],
      "metadata": {
        "id": "AiNs0lS6qEXS"
      }
    },
    {
      "cell_type": "code",
      "source": [
        "# Vocabulary and frequency dictionary\n",
        "freqs = build_freqs(tweets, labels)\n",
        "\n",
        "print(f'type(freqs) = {type(freqs)}')\n",
        "\n",
        "print(f'len(freqs) = {len(freqs)}')"
      ],
      "metadata": {
        "colab": {
          "base_uri": "https://localhost:8080/"
        },
        "id": "cP5XPjrBex2P",
        "outputId": "6c5d2789-75bf-4817-ad0f-ba4ddc158dba"
      },
      "execution_count": 25,
      "outputs": [
        {
          "output_type": "stream",
          "name": "stdout",
          "text": [
            "type(freqs) = <class 'dict'>\n",
            "len(freqs) = 13067\n"
          ]
        }
      ]
    },
    {
      "cell_type": "markdown",
      "source": [
        "A frqeuency dictionary consists of each unique word from the vocabulary and the number of times it has been used in the positive and negatives tweets. The format of an individual list/word is [\"word\", Positive count, Negative count\"]. Utilizing this dictionary each tweet can be converted to a feature of size 3. \n",
        "\n",
        "This freqeuency dictionary can be plotted on a scatter plot to see the distribution of word count for both classes. If a certain word is used more in one class indicates that it might contribute towards ascertaining the sentiment of a tweet. For visual representation a sample of words have been selected which either have a high frequency count in either one class or another. Some words which have a balanced frequency among classes have also been selected. Balanced frequencies indicate neutral words which do not points towards a certain sentiment. "
      ],
      "metadata": {
        "id": "gTMbMpD00CKT"
      }
    },
    {
      "cell_type": "code",
      "source": [
        "keys = ['happi', 'merri', 'nice', 'good', 'bad', 'sad', 'mad', 'best', 'pretti',\n",
        "        '❤', ':)', ':(', '😒', '😬', '😄', '😍', '♛',\n",
        "        'song', 'idea', 'power', 'play', 'magnific', \"thank\", \"day\", \"like\", \"pleas\", \"love\", \":d\", \"...\"]\n",
        "\n",
        "data = []\n",
        "\n",
        "for word in keys:\n",
        "    pos = 0\n",
        "    neg = 0\n",
        "    if (word, 1) in freqs:\n",
        "        pos = freqs[(word, 1)]\n",
        "    if (word, 0) in freqs:\n",
        "        neg = freqs[(word, 0)]\n",
        "    data.append([word, pos, neg])\n",
        "    \n",
        "data"
      ],
      "metadata": {
        "colab": {
          "base_uri": "https://localhost:8080/"
        },
        "id": "sGX9AYNCe8c4",
        "outputId": "c62eed7e-1d69-4c36-b0ea-1638c3e75258"
      },
      "execution_count": 26,
      "outputs": [
        {
          "output_type": "execute_result",
          "data": {
            "text/plain": [
              "[['happi', 211, 25],\n",
              " ['merri', 1, 0],\n",
              " ['nice', 98, 19],\n",
              " ['good', 238, 101],\n",
              " ['bad', 18, 73],\n",
              " ['sad', 5, 123],\n",
              " ['mad', 4, 11],\n",
              " ['best', 65, 22],\n",
              " ['pretti', 20, 15],\n",
              " ['❤', 29, 21],\n",
              " [':)', 3568, 2],\n",
              " [':(', 1, 4571],\n",
              " ['😒', 1, 3],\n",
              " ['😬', 0, 2],\n",
              " ['😄', 5, 1],\n",
              " ['😍', 2, 1],\n",
              " ['♛', 0, 210],\n",
              " ['song', 22, 27],\n",
              " ['idea', 26, 10],\n",
              " ['power', 7, 6],\n",
              " ['play', 46, 48],\n",
              " ['magnific', 2, 0],\n",
              " ['thank', 620, 107],\n",
              " ['day', 246, 149],\n",
              " ['like', 233, 228],\n",
              " ['pleas', 97, 275],\n",
              " ['love', 400, 152],\n",
              " [':d', 629, 0],\n",
              " ['...', 289, 331]]"
            ]
          },
          "metadata": {},
          "execution_count": 26
        }
      ]
    },
    {
      "cell_type": "markdown",
      "source": [
        "The log distribution represents the how many times have the words been used in their corresponding classes. The scatter plot has been logged to plot the data on same ranges on X and Y axis. Words or symbols like \":)\" and \":d\" indicate that they might contribute towards a tweet being postive when passes through logistic regression. Words or symbols like \":(\" or \"sad\" have been used more in the negative class. Indicating that they might increase the probability of a certain being negative.\n",
        "\n",
        "This method can also be used to filter out neutral words from the vocabulary which have been used at almost the same frequency in the positive and negative classes. Words at or near the red line are such words. Neutral words do not contribute towards pointing towards a certain sentiment. "
      ],
      "metadata": {
        "id": "GW_72-RQ19SP"
      }
    },
    {
      "cell_type": "code",
      "source": [
        "import warnings\n",
        "warnings.filterwarnings(\"ignore\")\n",
        "\n",
        "fig, ax = plt.subplots(figsize = (8, 8))\n",
        "\n",
        "x = np.log([x[1] + 1 for x in data])  \n",
        "y = np.log([x[2] + 1 for x in data]) \n",
        "ax.scatter(x, y)  \n",
        "\n",
        "plt.title(\"Feature Count - Log Distribution\")\n",
        "plt.xlabel(\"Log Positive count\")\n",
        "plt.ylabel(\"Log Negative count\")\n",
        "\n",
        "for i in range(0, len(data)):\n",
        "    ax.annotate(data[i][0], (x[i], y[i]), fontsize=12)\n",
        "\n",
        "ax.plot([0, 9], [0, 9], color = 'red') \n",
        "plt.show()"
      ],
      "metadata": {
        "colab": {
          "base_uri": "https://localhost:8080/",
          "height": 513
        },
        "id": "afF3d_Aee-ZE",
        "outputId": "011adb14-9be3-454f-856d-33a1db4f0b90"
      },
      "execution_count": 27,
      "outputs": [
        {
          "output_type": "display_data",
          "data": {
            "text/plain": [
              "<Figure size 576x576 with 1 Axes>"
            ],
            "image/png": "[encoded data removed]"
          },
          "metadata": {
            "needs_background": "light"
          }
        }
      ]
    },
    {
      "cell_type": "markdown",
      "source": [
        "Training\n",
        "---\n",
        "\n",
        "For classification logistic regression can be used to give a baseline for sentiment analysis. Data will be split 80/20 i.e. 8000 tweets for training and 2000 cross-validation. \n",
        "\n",
        "Best weights that should be used for three features can be figured out by applying gradient descent. The first feature will be for the bias, second will be for the positive class and third will be for the negative class. The weights will be initialized with a random normal distribution and updated after every computation of cost function with respect to the weights. The weights with the lowest cost function will be used as the final weights for logistic regression and cross-validation. "
      ],
      "metadata": {
        "id": "8fBrtQuP5xCT"
      }
    },
    {
      "cell_type": "markdown",
      "source": [
        "![gradientdescent.png](data:image/png;base64,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)"
      ],
      "metadata": {
        "id": "ZjulM4Xy7nlu"
      }
    },
    {
      "cell_type": "code",
      "source": [
        "# Data split into 80/20\n",
        "test_pos = all_positive_tweets[4000:]\n",
        "train_pos = all_positive_tweets[:4000]\n",
        "test_neg = all_negative_tweets[4000:]\n",
        "train_neg = all_negative_tweets[:4000]\n",
        "\n",
        "train_x = train_pos + train_neg \n",
        "test_x = test_pos + test_neg\n",
        "\n",
        "train_y = np.append(np.ones((len(train_pos), 1)), np.zeros((len(train_neg), 1)), axis=0)\n",
        "test_y = np.append(np.ones((len(test_pos), 1)), np.zeros((len(test_neg), 1)), axis=0)"
      ],
      "metadata": {
        "id": "Bg2Wc7WVf0-K"
      },
      "execution_count": 28,
      "outputs": []
    },
    {
      "cell_type": "markdown",
      "source": [
        "New frequency dictionary has been generated by only using the 8000 tweets from the training data. The unique number of words in the vocabulary have now reduced to 11338."
      ],
      "metadata": {
        "id": "x5q7frVd8Hml"
      }
    },
    {
      "cell_type": "code",
      "source": [
        "# Frequency dictionary\n",
        "freqs = build_freqs(train_x, train_y)\n",
        "\n",
        "print(\"type(freqs) = \" + str(type(freqs)))\n",
        "print(\"len(freqs) = \" + str(len(freqs.keys())))"
      ],
      "metadata": {
        "colab": {
          "base_uri": "https://localhost:8080/"
        },
        "id": "RcynI3kqoyOO",
        "outputId": "cf995276-06b2-40a4-8bd1-3e695cb1689d"
      },
      "execution_count": 29,
      "outputs": [
        {
          "output_type": "stream",
          "name": "stdout",
          "text": [
            "type(freqs) = <class 'dict'>\n",
            "len(freqs) = 11338\n"
          ]
        }
      ]
    },
    {
      "cell_type": "code",
      "source": [
        "import math\n",
        "def sigmoid(z): \n",
        "    '''\n",
        "    Input:\n",
        "        z: is the input (can be a scalar or an array)\n",
        "    Output:\n",
        "        h: the sigmoid of z\n",
        "    '''\n",
        "    h = 1 / (1 + np.exp(-z))\n",
        "    return h"
      ],
      "metadata": {
        "id": "1lN9VWZFpEYA"
      },
      "execution_count": 30,
      "outputs": []
    },
    {
      "cell_type": "code",
      "source": [
        "def gradientDescent(x, y, theta, alpha, num_iters):\n",
        "    '''\n",
        "    Input:\n",
        "        x: matrix of features which is (m,n+1)\n",
        "        y: corresponding labels of the input matrix x, dimensions (m,1)\n",
        "        theta: weight vector of dimension (n+1,1)\n",
        "        alpha: learning rate\n",
        "        num_iters: number of iterations you want to train your model for\n",
        "    Output:\n",
        "        J: the final cost\n",
        "        theta: your final weight vector\n",
        "    '''\n",
        "    m = len(x)\n",
        "    \n",
        "    for i in range(0, num_iters):\n",
        "        z = np.dot(x, theta)\n",
        "        h = sigmoid(z)\n",
        "        J = (-1/m ) * (np.dot(np.transpose(y), np.log(h)) + np.dot((np.transpose(1 - y)), np.log(1 - h)))\n",
        "        theta = theta - ((alpha/m) * np.dot(np.transpose(x), (h - y)))\n",
        "    J = float(J)\n",
        "    return J, theta"
      ],
      "metadata": {
        "id": "gS0mM-T7pJ01"
      },
      "execution_count": 31,
      "outputs": []
    },
    {
      "cell_type": "code",
      "source": [
        "def extract_features(tweet, freqs, process_tweet=process_tweet):\n",
        "    '''\n",
        "    Input: \n",
        "        tweet: a list of words for one tweet\n",
        "        freqs: a dictionary corresponding to the frequencies of each tuple (word, label)\n",
        "    Output: \n",
        "        x: a feature vector of dimension (1,3)\n",
        "    '''\n",
        "    word_l = process_tweet(tweet)\n",
        "    x = np.zeros((1, 3)) \n",
        "    x[0,0] = 1 \n",
        "    for word in word_l:\n",
        "        x[0,1] += freqs.get((word, 1.0), 0)\n",
        "        x[0,2] += freqs.get((word, 0.0), 0)\n",
        "    assert(x.shape == (1, 3))\n",
        "    return x"
      ],
      "metadata": {
        "id": "7DJ7SFfTpPXq"
      },
      "execution_count": 32,
      "outputs": []
    },
    {
      "cell_type": "markdown",
      "source": [
        "1500 iterations of gradient descent have been performed and learning rate is has been set to 1e-9. After computation, the weights for the three features have resulted in     [7e-08, 0.00052391, -0.00055517] for the whole training set."
      ],
      "metadata": {
        "id": "-q0QBK-E9LkP"
      }
    },
    {
      "cell_type": "code",
      "source": [
        "X = np.zeros((len(train_x), 3))\n",
        "for i in range(len(train_x)):\n",
        "    X[i, :]= extract_features(train_x[i], freqs)\n",
        "\n",
        "Y = train_y\n",
        "\n",
        "J, theta = gradientDescent(X, Y, np.zeros((3, 1)), 1e-9, 1500)\n",
        "print(f\"The cost after training is {J:.8f}.\")\n",
        "print(f\"The resulting vector of weights is {[round(t, 8) for t in np.squeeze(theta)]}\")"
      ],
      "metadata": {
        "colab": {
          "base_uri": "https://localhost:8080/"
        },
        "id": "UmIN0duppVGC",
        "outputId": "96db5e6b-d0de-432e-ac37-b8e6ab46f418"
      },
      "execution_count": 33,
      "outputs": [
        {
          "output_type": "stream",
          "name": "stdout",
          "text": [
            "The cost after training is 0.24215474.\n",
            "The resulting vector of weights is [7e-08, 0.00052391, -0.00055517]\n"
          ]
        }
      ]
    },
    {
      "cell_type": "markdown",
      "source": [
        "Prior to performing cross-validation the weights and the corresponding training data can be visualized on a 2D plane to see how accurately the weights are able to ascertain the split of the training data. This visualization also provides how well the features from the frquency dictionary are able to split the data in their corresponding sentiments. \n"
      ],
      "metadata": {
        "id": "oZ4r7i8j9Wmv"
      }
    },
    {
      "cell_type": "code",
      "source": [
        "bias_pos_neg_label = []\n",
        "for i, element in enumerate(X):\n",
        "  bias_pos_neg_label.append(np.append(element, Y[i]))\n",
        "\n",
        "bias, positive, negative, sentiment = zip(*bias_pos_neg_label)\n",
        "bias = list(bias)\n",
        "positive = list(positive)\n",
        "negative = list(negative)\n",
        "sentiment = list(sentiment)"
      ],
      "metadata": {
        "id": "Tb3KVxn-5LF2"
      },
      "execution_count": 34,
      "outputs": []
    },
    {
      "cell_type": "markdown",
      "source": [
        "In the dataframe below each tweet has been represented with a length of size 3. Where the first is the bias, second is the unique count of postive class and third is the unique count of negative class. The last column can be used to represent if the sentiment for a tweet is positive or negative. "
      ],
      "metadata": {
        "id": "hT9mlaIDCvM8"
      }
    },
    {
      "cell_type": "code",
      "source": [
        "df = pd.DataFrame(list(zip(bias, positive, negative, sentiment)),\n",
        "               columns =['Bias', 'Positive', \"Negative\", \"Sentiment\"])\n",
        "\n",
        "df.head(10)"
      ],
      "metadata": {
        "colab": {
          "base_uri": "https://localhost:8080/",
          "height": 363
        },
        "id": "nBiIO0uO6v5P",
        "outputId": "be031ebb-e92b-459c-963a-0b932053500a"
      },
      "execution_count": 35,
      "outputs": [
        {
          "output_type": "execute_result",
          "data": {
            "text/plain": [
              "   Bias  Positive  Negative  Sentiment\n",
              "0   1.0    3020.0      61.0        1.0\n",
              "1   1.0    3573.0     444.0        1.0\n",
              "2   1.0    3005.0     115.0        1.0\n",
              "3   1.0    2862.0       4.0        1.0\n",
              "4   1.0    3119.0     225.0        1.0\n",
              "5   1.0    2955.0     119.0        1.0\n",
              "6   1.0    3934.0     538.0        1.0\n",
              "7   1.0    3162.0     276.0        1.0\n",
              "8   1.0     628.0     189.0        1.0\n",
              "9   1.0     265.0     112.0        1.0"
            ],
            "text/html": [
              "\n",
              "  <div id=\"df-aeb4e1b7-f1f5-4f5e-a36b-47a34d54b33c\">\n",
              "    <div class=\"colab-df-container\">\n",
              "      <div>\n",
              "<style scoped>\n",
              "    .dataframe tbody tr th:only-of-type {\n",
              "        vertical-align: middle;\n",
              "    }\n",
              "\n",
              "    .dataframe tbody tr th {\n",
              "        vertical-align: top;\n",
              "    }\n",
              "\n",
              "    .dataframe thead th {\n",
              "        text-align: right;\n",
              "    }\n",
              "</style>\n",
              "<table border=\"1\" class=\"dataframe\">\n",
              "  <thead>\n",
              "    <tr style=\"text-align: right;\">\n",
              "      <th></th>\n",
              "      <th>Bias</th>\n",
              "      <th>Positive</th>\n",
              "      <th>Negative</th>\n",
              "      <th>Sentiment</th>\n",
              "    </tr>\n",
              "  </thead>\n",
              "  <tbody>\n",
              "    <tr>\n",
              "      <th>0</th>\n",
              "      <td>1.0</td>\n",
              "      <td>3020.0</td>\n",
              "      <td>61.0</td>\n",
              "      <td>1.0</td>\n",
              "    </tr>\n",
              "    <tr>\n",
              "      <th>1</th>\n",
              "      <td>1.0</td>\n",
              "      <td>3573.0</td>\n",
              "      <td>444.0</td>\n",
              "      <td>1.0</td>\n",
              "    </tr>\n",
              "    <tr>\n",
              "      <th>2</th>\n",
              "      <td>1.0</td>\n",
              "      <td>3005.0</td>\n",
              "      <td>115.0</td>\n",
              "      <td>1.0</td>\n",
              "    </tr>\n",
              "    <tr>\n",
              "      <th>3</th>\n",
              "      <td>1.0</td>\n",
              "      <td>2862.0</td>\n",
              "      <td>4.0</td>\n",
              "      <td>1.0</td>\n",
              "    </tr>\n",
              "    <tr>\n",
              "      <th>4</th>\n",
              "      <td>1.0</td>\n",
              "      <td>3119.0</td>\n",
              "      <td>225.0</td>\n",
              "      <td>1.0</td>\n",
              "    </tr>\n",
              "    <tr>\n",
              "      <th>5</th>\n",
              "      <td>1.0</td>\n",
              "      <td>2955.0</td>\n",
              "      <td>119.0</td>\n",
              "      <td>1.0</td>\n",
              "    </tr>\n",
              "    <tr>\n",
              "      <th>6</th>\n",
              "      <td>1.0</td>\n",
              "      <td>3934.0</td>\n",
              "      <td>538.0</td>\n",
              "      <td>1.0</td>\n",
              "    </tr>\n",
              "    <tr>\n",
              "      <th>7</th>\n",
              "      <td>1.0</td>\n",
              "      <td>3162.0</td>\n",
              "      <td>276.0</td>\n",
              "      <td>1.0</td>\n",
              "    </tr>\n",
              "    <tr>\n",
              "      <th>8</th>\n",
              "      <td>1.0</td>\n",
              "      <td>628.0</td>\n",
              "      <td>189.0</td>\n",
              "      <td>1.0</td>\n",
              "    </tr>\n",
              "    <tr>\n",
              "      <th>9</th>\n",
              "      <td>1.0</td>\n",
              "      <td>265.0</td>\n",
              "      <td>112.0</td>\n",
              "      <td>1.0</td>\n",
              "    </tr>\n",
              "  </tbody>\n",
              "</table>\n",
              "</div>\n",
              "      <button class=\"colab-df-convert\" onclick=\"convertToInteractive('df-aeb4e1b7-f1f5-4f5e-a36b-47a34d54b33c')\"\n",
              "              title=\"Convert this dataframe to an interactive table.\"\n",
              "              style=\"display:none;\">\n",
              "        \n",
              "  <svg xmlns=\"http://www.w3.org/2000/svg\" height=\"24px\"viewBox=\"0 0 24 24\"\n",
              "       width=\"24px\">\n",
              "    <path d=\"M0 0h24v24H0V0z\" fill=\"none\"/>\n",
              "    <path d=\"M18.56 5.44l.94 2.06.94-2.06 2.06-.94-2.06-.94-.94-2.06-.94 2.06-2.06.94zm-11 1L8.5 8.5l.94-2.06 2.06-.94-2.06-.94L8.5 2.5l-.94 2.06-2.06.94zm10 10l.94 2.06.94-2.06 2.06-.94-2.06-.94-.94-2.06-.94 2.06-2.06.94z\"/><path d=\"M17.41 7.96l-1.37-1.37c-.4-.4-.92-.59-1.43-.59-.52 0-1.04.2-1.43.59L10.3 9.45l-7.72 7.72c-.78.78-.78 2.05 0 2.83L4 21.41c.39.39.9.59 1.41.59.51 0 1.02-.2 1.41-.59l7.78-7.78 2.81-2.81c.8-.78.8-2.07 0-2.86zM5.41 20L4 18.59l7.72-7.72 1.47 1.35L5.41 20z\"/>\n",
              "  </svg>\n",
              "      </button>\n",
              "      \n",
              "  <style>\n",
              "    .colab-df-container {\n",
              "      display:flex;\n",
              "      flex-wrap:wrap;\n",
              "      gap: 12px;\n",
              "    }\n",
              "\n",
              "    .colab-df-convert {\n",
              "      background-color: #E8F0FE;\n",
              "      border: none;\n",
              "      border-radius: 50%;\n",
              "      cursor: pointer;\n",
              "      display: none;\n",
              "      fill: #1967D2;\n",
              "      height: 32px;\n",
              "      padding: 0 0 0 0;\n",
              "      width: 32px;\n",
              "    }\n",
              "\n",
              "    .colab-df-convert:hover {\n",
              "      background-color: #E2EBFA;\n",
              "      box-shadow: 0px 1px 2px rgba(60, 64, 67, 0.3), 0px 1px 3px 1px rgba(60, 64, 67, 0.15);\n",
              "      fill: #174EA6;\n",
              "    }\n",
              "\n",
              "    [theme=dark] .colab-df-convert {\n",
              "      background-color: #3B4455;\n",
              "      fill: #D2E3FC;\n",
              "    }\n",
              "\n",
              "    [theme=dark] .colab-df-convert:hover {\n",
              "      background-color: #434B5C;\n",
              "      box-shadow: 0px 1px 3px 1px rgba(0, 0, 0, 0.15);\n",
              "      filter: drop-shadow(0px 1px 2px rgba(0, 0, 0, 0.3));\n",
              "      fill: #FFFFFF;\n",
              "    }\n",
              "  </style>\n",
              "\n",
              "      <script>\n",
              "        const buttonEl =\n",
              "          document.querySelector('#df-aeb4e1b7-f1f5-4f5e-a36b-47a34d54b33c button.colab-df-convert');\n",
              "        buttonEl.style.display =\n",
              "          google.colab.kernel.accessAllowed ? 'block' : 'none';\n",
              "\n",
              "        async function convertToInteractive(key) {\n",
              "          const element = document.querySelector('#df-aeb4e1b7-f1f5-4f5e-a36b-47a34d54b33c');\n",
              "          const dataTable =\n",
              "            await google.colab.kernel.invokeFunction('convertToInteractive',\n",
              "                                                     [key], {});\n",
              "          if (!dataTable) return;\n",
              "\n",
              "          const docLinkHtml = 'Like what you see? Visit the ' +\n",
              "            '<a target=\"_blank\" href=https://colab.research.google.com/notebooks/data_table.ipynb>data table notebook</a>'\n",
              "            + ' to learn more about interactive tables.';\n",
              "          element.innerHTML = '';\n",
              "          dataTable['output_type'] = 'display_data';\n",
              "          await google.colab.output.renderOutput(dataTable, element);\n",
              "          const docLink = document.createElement('div');\n",
              "          docLink.innerHTML = docLinkHtml;\n",
              "          element.appendChild(docLink);\n",
              "        }\n",
              "      </script>\n",
              "    </div>\n",
              "  </div>\n",
              "  "
            ]
          },
          "metadata": {},
          "execution_count": 35
        }
      ]
    },
    {
      "cell_type": "markdown",
      "source": [
        "Same representation as above but different format. "
      ],
      "metadata": {
        "id": "lB7aNyG4DRCC"
      }
    },
    {
      "cell_type": "code",
      "source": [
        "X = df[['Bias', 'Positive', 'Negative']].values \n",
        "Y = df['Sentiment'].values;\n",
        "\n",
        "print(X.shape) \n",
        "print(X)"
      ],
      "metadata": {
        "colab": {
          "base_uri": "https://localhost:8080/"
        },
        "id": "AuwTfTdH74SN",
        "outputId": "78f7fa90-d857-4e8b-ad8b-207668e82bbf"
      },
      "execution_count": 36,
      "outputs": [
        {
          "output_type": "stream",
          "name": "stdout",
          "text": [
            "(8000, 3)\n",
            "[[1.000e+00 3.020e+03 6.100e+01]\n",
            " [1.000e+00 3.573e+03 4.440e+02]\n",
            " [1.000e+00 3.005e+03 1.150e+02]\n",
            " ...\n",
            " [1.000e+00 1.440e+02 7.830e+02]\n",
            " [1.000e+00 2.050e+02 3.890e+03]\n",
            " [1.000e+00 1.890e+02 3.974e+03]]\n"
          ]
        }
      ]
    },
    {
      "cell_type": "markdown",
      "source": [
        "As seen from the plot each tweet has been seperated perfectly by using the current features from the vocabulary. Tweets which are negative have a high frequency of negative counts and vice versa."
      ],
      "metadata": {
        "id": "tAh_Zn1jDe1P"
      }
    },
    {
      "cell_type": "code",
      "source": [
        "fig, ax = plt.subplots(figsize = (8, 8))\n",
        "\n",
        "colors = ['red', 'green'] # red is negative while green is positive\n",
        "\n",
        "ax.scatter(X[:,1], X[:,2], c=[colors[int(k)] for k in Y], s = 0.1)  \n",
        "plt.xlabel(\"Positive\")\n",
        "plt.ylabel(\"Negative\")\n",
        "plt.show()"
      ],
      "metadata": {
        "colab": {
          "base_uri": "https://localhost:8080/",
          "height": 497
        },
        "id": "QlhjQ40ykuT5",
        "outputId": "371ed7fc-af25-4bd6-a740-f3d3cc333b6b"
      },
      "execution_count": 37,
      "outputs": [
        {
          "output_type": "display_data",
          "data": {
            "text/plain": [
              "<Figure size 576x576 with 1 Axes>"
            ],
            "image/png": "[encoded data removed]"
          },
          "metadata": {
            "needs_background": "light"
          }
        }
      ]
    },
    {
      "cell_type": "code",
      "source": [
        "theta = [7e-08, 0.00052391, -0.00055517]\n",
        "\n",
        "def neg(theta, pos):\n",
        "    return (-theta[0] - pos * theta[1]) / theta[2]\n",
        "\n",
        "def direction(theta, pos):\n",
        "    return    pos * theta[2] / theta[1]"
      ],
      "metadata": {
        "id": "ifuTytFd8Wnv"
      },
      "execution_count": 38,
      "outputs": []
    },
    {
      "cell_type": "markdown",
      "source": [
        "The grey line indicates the seperation of the plane where the tweets are classified either 0 or 1 by the logistic regression with the current weights. The model has been able to ascertain accurate weights with the existing features. "
      ],
      "metadata": {
        "id": "tfXLEWKhFx_2"
      }
    },
    {
      "cell_type": "code",
      "source": [
        "fig, ax = plt.subplots(figsize = (8, 8))\n",
        "\n",
        "colors = ['red', 'green']\n",
        "\n",
        "ax.scatter(X[:,1], X[:,2], c=[colors[int(k)] for k in Y], s = 0.1)  # Plot a dot for each pair of words\n",
        "plt.xlabel(\"Positive\")\n",
        "plt.ylabel(\"Negative\")\n",
        "\n",
        "maxpos = np.max(X[:,1])\n",
        "\n",
        "offset = 5000 \n",
        "\n",
        "ax.plot([0,  maxpos], [neg(theta, 0),   neg(theta, maxpos)], color = 'gray') \n",
        "\n",
        "ax.arrow(offset, neg(theta, offset), offset, direction(theta, offset), head_width=500, head_length=500, fc='g', ec='g')\n",
        "ax.arrow(offset, neg(theta, offset), -offset, -direction(theta, offset), head_width=500, head_length=500, fc='r', ec='r')\n",
        "\n",
        "plt.show()"
      ],
      "metadata": {
        "colab": {
          "base_uri": "https://localhost:8080/",
          "height": 497
        },
        "id": "_0StuPz28mmr",
        "outputId": "e0693e61-2ada-4a23-deb9-51b4ea775e5c"
      },
      "execution_count": 39,
      "outputs": [
        {
          "output_type": "display_data",
          "data": {
            "text/plain": [
              "<Figure size 576x576 with 1 Axes>"
            ],
            "image/png": "[encoded data removed]"
          },
          "metadata": {
            "needs_background": "light"
          }
        }
      ]
    },
    {
      "cell_type": "markdown",
      "source": [
        "Cross-validation\n",
        "---\n",
        "\n",
        "Cross-validation is a crucial step in machine learning and same is the case with NLP. It is used to figure out how generalizable a trained model is on unknown data. Model underfit or overfit can also be deduced if cross-validation results are low. \n",
        "\n",
        "Cross-validation metric i.e. Accuracy is being used to assess the how good the model is. Logistic regression produces a probability of a given tweet being 1 where 1 represents tweet being positive. The threshold can be changed as per the business question. For this analysis the threshold has been set to 0.5. Where probability of above 0.5 will be classified as a positive tweet and vice versa. \n",
        "\n",
        "The formula for accuracy is \n",
        "\n",
        "[accuracy = correct_predictions / total_predictions]\n",
        "\n",
        "[correct_predictions = sum(true label - predicted label)]"
      ],
      "metadata": {
        "id": "N-ZhvgiHGbm-"
      }
    },
    {
      "cell_type": "code",
      "source": [
        "# Function to generate prediction of a tweet \n",
        "def predict_tweet(tweet, freqs, theta):\n",
        "    '''\n",
        "    Input: \n",
        "        tweet: a string\n",
        "        freqs: a dictionary corresponding to the frequencies of each tuple (word, label)\n",
        "        theta: (3,1) vector of weights\n",
        "    Output: \n",
        "        y_pred: the probability of a tweet being positive or negative\n",
        "    '''\n",
        "    x = extract_features(tweet, freqs)\n",
        "\n",
        "    y_pred = sigmoid(np.dot(x, theta))\n",
        "    \n",
        "    return y_pred"
      ],
      "metadata": {
        "id": "VGkBshyep0HZ"
      },
      "execution_count": 40,
      "outputs": []
    },
    {
      "cell_type": "code",
      "source": [
        "def test_logistic_regression(test_x, test_y, freqs, theta, predict_tweet=predict_tweet):\n",
        "    \"\"\"\n",
        "    Input: \n",
        "        test_x: a list of tweets\n",
        "        test_y: (m, 1) vector with the corresponding labels for the list of tweets\n",
        "        freqs: a dictionary with the frequency of each pair (or tuple)\n",
        "        theta: weight vector of dimension (3, 1)\n",
        "    Output: \n",
        "        accuracy: (# of tweets classified correctly) / (total # of tweets)\n",
        "    \"\"\"\n",
        "    y_hat = []\n",
        "    \n",
        "    for tweet in test_x:\n",
        "        y_pred = predict_tweet(tweet, freqs, theta)\n",
        "        \n",
        "        if y_pred > 0.5:\n",
        "            y_hat.append(1.0)\n",
        "        else:\n",
        "            y_hat.append(0.0)\n",
        "\n",
        "    accuracy = sum((y_hat == np.squeeze(test_y))) / len(test_x)\n",
        "    \n",
        "    return accuracy"
      ],
      "metadata": {
        "id": "cgqFPDOnqFfH"
      },
      "execution_count": 41,
      "outputs": []
    },
    {
      "cell_type": "markdown",
      "source": [
        "Results\n",
        "---\n",
        "\n",
        "The model with the existing features and weights has been able to obtain 99.50% accuracy on the validation set which is extremely high. Meaning that it has been able to classify 99.50% of the validation tweets to their true sentiments. \n"
      ],
      "metadata": {
        "id": "z6lrNAbfIMWI"
      }
    },
    {
      "cell_type": "code",
      "source": [
        "tmp_accuracy = test_logistic_regression(test_x, test_y, freqs, theta)\n",
        "print(f\"Logistic regression model's accuracy = {tmp_accuracy * 100:.2f}%\")"
      ],
      "metadata": {
        "colab": {
          "base_uri": "https://localhost:8080/"
        },
        "id": "M8sDFUhhqK76",
        "outputId": "1b3523e5-7281-461e-ac92-71c52ec710fd"
      },
      "execution_count": 42,
      "outputs": [
        {
          "output_type": "stream",
          "name": "stdout",
          "text": [
            "Logistic regression model's accuracy = 99.50%\n"
          ]
        }
      ]
    }
  ]
}